{
 "cells": [
  {
   "cell_type": "markdown",
   "metadata": {},
   "source": []
  },
  {
   "cell_type": "markdown",
   "metadata": {},
   "source": [
    "Steps to Implement a Priority Queue\n",
    "Import the heapq module: This provides functions to manage a min-heap.\n",
    "Use a list as a heap: Python’s heapq uses a min-heap, meaning the smallest element has the highest priority.\n",
    "Use heapq.heappush() to insert elements.\n",
    "Use heapq.heappop() to remove the highest-priority (smallest) element.\n",
    "Use heapq.heappushpop() to push and pop in a single operation.\n",
    "Use heapq.heapify() to convert a list into a heap."
   ]
  }
 ],
 "metadata": {
  "language_info": {
   "name": "python"
  }
 },
 "nbformat": 4,
 "nbformat_minor": 2
}
