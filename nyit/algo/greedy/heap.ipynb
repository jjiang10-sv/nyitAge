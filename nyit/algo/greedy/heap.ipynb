{
 "cells": [
  {
   "cell_type": "markdown",
   "metadata": {},
   "source": [
    "PriorityQueue is a data structure where the element dequeue is based on the item property (min or max in certain feature) instead of the arrival order. In Python, heapq module can be used to implement priorityQueue class"
   ]
  },
  {
   "cell_type": "markdown",
   "metadata": {},
   "source": [
    "Steps to Implement a Priority Queue\n",
    "Import the heapq module: This provides functions to manage a min-heap.\n",
    "Use a list as a heap: Python’s heapq uses a min-heap, meaning the smallest element has the highest priority.\n",
    "Use heapq.heappush() to insert elements.\n",
    "Use heapq.heappop() to remove the highest-priority (smallest) element.\n",
    "Use heapq.heappushpop() to push and pop in a single operation.\n",
    "Use heapq.heapify() to convert a list into a heap."
   ]
  },
  {
   "cell_type": "code",
   "execution_count": 12,
   "metadata": {},
   "outputs": [],
   "source": [
    "import heapq"
   ]
  },
  {
   "cell_type": "code",
   "execution_count": 13,
   "metadata": {},
   "outputs": [
    {
     "name": "stdout",
     "output_type": "stream",
     "text": [
      "[2, 2, 4, 7, 8, 5, 9]\n"
     ]
    }
   ],
   "source": [
    "hq = [5,2,4,7,8,2,9]\n",
    "heapq.heapify(hq)\n",
    "print(hq)"
   ]
  },
  {
   "cell_type": "code",
   "execution_count": 14,
   "metadata": {},
   "outputs": [
    {
     "name": "stdout",
     "output_type": "stream",
     "text": [
      "2\n",
      "[2, 7, 4, 9, 8, 5]\n"
     ]
    }
   ],
   "source": [
    "smallest_val = heapq.heappop(hq)\n",
    "print(smallest_val)\n",
    "print(hq)"
   ]
  },
  {
   "cell_type": "code",
   "execution_count": 15,
   "metadata": {},
   "outputs": [
    {
     "name": "stdout",
     "output_type": "stream",
     "text": [
      "2\n",
      "[4, 7, 4, 9, 8, 5]\n"
     ]
    }
   ],
   "source": [
    "val = heapq.heapreplace(hq,4)\n",
    "print(val)\n",
    "print(hq)"
   ]
  },
  {
   "cell_type": "code",
   "execution_count": 16,
   "metadata": {},
   "outputs": [
    {
     "name": "stdout",
     "output_type": "stream",
     "text": [
      "[1, 2, 3, 6, 9, 5]\n"
     ]
    }
   ],
   "source": [
    "heap = []\n",
    "heapq.heappush(heap,5)\n",
    "heapq.heappush(heap,6)\n",
    "heapq.heappush(heap,2)\n",
    "heapq.heappush(heap,1)\n",
    "heapq.heappush(heap,9)\n",
    "heapq.heappush(heap,3)\n",
    "print(heap)"
   ]
  },
  {
   "cell_type": "code",
   "execution_count": 17,
   "metadata": {},
   "outputs": [],
   "source": [
    "class MinHeap(object):\n",
    "    def __init__(self): self.h = []\n",
    "    def heappush(self,x): heapq.heappush(self.h,x)\n",
    "    def heappop(self): return heapq.heappop(self.h)\n",
    "    def __getitem__(self,i): return self.h[i]\n",
    "    def __len__(self): return len(self.h)"
   ]
  },
  {
   "cell_type": "code",
   "execution_count": 18,
   "metadata": {},
   "outputs": [
    {
     "name": "stdout",
     "output_type": "stream",
     "text": [
      "2\n"
     ]
    }
   ],
   "source": [
    "minH = MinHeap()\n",
    "minH.heappush(2)\n",
    "minH.heappush(4)\n",
    "print(minH[0])\n"
   ]
  },
  {
   "cell_type": "code",
   "execution_count": 19,
   "metadata": {},
   "outputs": [
    {
     "name": "stdout",
     "output_type": "stream",
     "text": [
      "2\n"
     ]
    }
   ],
   "source": [
    "print(minH.heappop())"
   ]
  },
  {
   "cell_type": "code",
   "execution_count": 20,
   "metadata": {},
   "outputs": [
    {
     "name": "stdout",
     "output_type": "stream",
     "text": [
      "[9, 6, 5, 1, 2, 3]\n"
     ]
    }
   ],
   "source": [
    "heapq._heapify_max(heap)\n",
    "print(heap)"
   ]
  },
  {
   "cell_type": "code",
   "execution_count": 21,
   "metadata": {},
   "outputs": [],
   "source": [
    "# Linked List"
   ]
  },
  {
   "cell_type": "markdown",
   "metadata": {},
   "source": [
    "the implementation without using the heapq module"
   ]
  },
  {
   "cell_type": "code",
   "execution_count": 22,
   "metadata": {},
   "outputs": [
    {
     "name": "stdout",
     "output_type": "stream",
     "text": [
      "2\n",
      "3\n",
      "4\n",
      "5\n",
      "8\n",
      "10\n",
      "12\n",
      "16\n"
     ]
    }
   ],
   "source": [
    "\n",
    "# simple item as integers\n",
    "class priorityQueue:\n",
    "    def __init__(self) -> None:\n",
    "        self.items = []\n",
    "        self.length = 0\n",
    "    # check whether the priorityqueue is empty\n",
    "    def is_empty(self):\n",
    "        return self.length == 0\n",
    "    # the pq shall implement swap interface on the elements\n",
    "    def swap(self, i,j):\n",
    "        self.items[i], self.items[j] = self.items[j], self.items[i]\n",
    "    # inqueue the element. it will insert at the end, then compare and swap with the parent \n",
    "    # element if it is smaller. it is array presentation of the min priotity binary tree where the \n",
    "    # parent node is smaller than both the children and there is no requirement on which one is greater \n",
    "    # among the choldren nodes\n",
    "    def insert (self, n):\n",
    "        if self.is_empty():\n",
    "            self.items = [n]\n",
    "            self.length = 1\n",
    "            return\n",
    "        # append and increase the length\n",
    "        self.items.append(n)\n",
    "        self.length += 1\n",
    "        # up the element\n",
    "        i = int((self.length-1)/2)\n",
    "        while i >= 0  and self.items[i] > n:\n",
    "            self.swap(i,self.length-1)\n",
    "            i = int((i-1)/2)\n",
    "        return\n",
    "    # it will pop the first element in the pq. swap it with the last element and then move the last element\n",
    "    # untill the pq feature is represerved\n",
    "    def pop(self) -> int:\n",
    "        if self.is_empty():\n",
    "            return None\n",
    "        res = self.items[0]\n",
    "        self.swap(0,self.length-1)\n",
    "        self.length -=1\n",
    "        self.items = self.items[:self.length]\n",
    "        i = 0\n",
    "        # down\n",
    "        while i < self.length-1:\n",
    "            \n",
    "            j = 2*i+1\n",
    "            #  verify left and right children; choose the smaller one\n",
    "            if j < self.length:\n",
    "                if j < self.length-1 and self.items[j] > self.items[j+1]:\n",
    "                    j = (j+1)\n",
    "                if self.items[i] > self.items[j]:\n",
    "                    self.swap(i,j)\n",
    "                i = j\n",
    "            else:\n",
    "                break\n",
    "        return res\n",
    "\n",
    "q = priorityQueue()\n",
    "q.insert(2)\n",
    "q.insert(5)\n",
    "q.insert(10)\n",
    "q.insert(4)\n",
    "q.insert(3)\n",
    "q.insert(12)\n",
    "q.insert(16)\n",
    "q.insert(8)\n",
    "while not q.is_empty():\n",
    "    print(q.pop())\n",
    "        "
   ]
  }
 ],
 "metadata": {
  "kernelspec": {
   "display_name": ".venv",
   "language": "python",
   "name": "python3"
  },
  "language_info": {
   "codemirror_mode": {
    "name": "ipython",
    "version": 3
   },
   "file_extension": ".py",
   "mimetype": "text/x-python",
   "name": "python",
   "nbconvert_exporter": "python",
   "pygments_lexer": "ipython3",
   "version": "3.11.2"
  }
 },
 "nbformat": 4,
 "nbformat_minor": 2
}
