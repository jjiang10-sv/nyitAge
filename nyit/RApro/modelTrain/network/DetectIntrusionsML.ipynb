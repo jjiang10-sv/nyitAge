{
  "cells": [
    {
      "cell_type": "markdown",
      "metadata": {
        "id": "Yb8-ympJ26uF"
      },
      "source": [
        "# INCS 615 Advanced Network and Internet Security\n",
        "#### Spring 2025, INCS 615-VA1 (2854)\n",
        "#### Instructor: Dr. Zhida Li\n",
        "#### Email: zli74@nyit.edu\n",
        "\n",
        "## Lab #3 (Group) - Detecting Intrusions using Machine Learning Models\n",
        "### Please keep your output when you submit"
      ]
    },
    {
      "cell_type": "code",
      "execution_count": null,
      "metadata": {},
      "outputs": [],
      "source": []
    },
    {
      "cell_type": "markdown",
      "metadata": {
        "id": "BQsXszMj26uL"
      },
      "source": [
        "# Step 1: Load the data, learn the five classes, and count the number of data points for each class\n",
        "Write the Python code:\n",
        "- Load the training and testing data\n",
        "- Count the number of data points for Regular (0), DoS (1), R2L (2), U2R (3), Probe (4) in both training and testing datasets\n",
        "\n",
        "You may use pandas OR numpy for extraction and removing the header:\n",
        "- [_NumPy_](https://numpy.org): used to perform mathematical operations\n",
        "- [_pandas_](https://pandas.pydata.org/): open source data analysis and manipulation tool"
      ]
    },
    {
      "cell_type": "code",
      "execution_count": 1,
      "metadata": {
        "colab": {
          "base_uri": "https://localhost:8080/"
        },
        "id": "TqZbcikq2jbH",
        "outputId": "0e64013d-e70a-4336-8efa-2bd74290f756"
      },
      "outputs": [
        {
          "name": "stdout",
          "output_type": "stream",
          "text": [
            "\\Training Dataset:\n",
            "Regular data points: 13449\n",
            "DoS data points: 9234\n",
            "R2L data points: 209\n",
            "U2R data points: 11\n",
            "Probe data points: 2289\n",
            "\n",
            "Testing Dataset:\n",
            "Regular data points: 9711\n",
            "DoS data points: 7460\n",
            "R2L data points: 2885\n",
            "U2R data points: 67\n",
            "Probe data points: 2421\n"
          ]
        }
      ],
      "source": [
        "import numpy as np\n",
        "import pandas as pd\n",
        "\n",
        "# To do...\n",
        "# Load your NSL-KDD training dataset\n",
        "#data_train = pd.read_csv('KDDTrain+_20Percent_615.csv', header=None)\n",
        "data_train = pd.read_csv('KDDTrain+_20Percent_615.csv')  # Keep the header\n",
        "\n",
        "# Load your NSL-KDD testing dataset\n",
        "data_test = pd.read_csv('KDDTest+_615.csv')\n",
        "#data_test = pd.read_csv('KDDTest+_615.csv', header=None)\n",
        "# ...\n",
        "\n",
        "\n",
        "# To do...\n",
        "# Count the number of data points for Regular (0), DoS (1), R2L (2), U2R (3), Probe (4) in both training and testing datasets\n",
        "# training dataset\n",
        "# Count the number of data points for each class in the training dataset\n",
        "num_regular = data_train[data_train.iloc[:, -1] == 0].shape[0]\n",
        "num_dos = data_train[data_train.iloc[:, -1] == 1].shape[0]\n",
        "num_r2l = data_train[data_train.iloc[:, -1] == 2].shape[0]\n",
        "num_u2r = data_train[data_train.iloc[:, -1] == 3].shape[0]\n",
        "num_probe = data_train[data_train.iloc[:, -1] == 4].shape[0]\n",
        "print('\\Training Dataset:')\n",
        "print('Regular data points:', num_regular)\n",
        "print('DoS data points:', num_dos)\n",
        "print('R2L data points:', num_r2l)\n",
        "print('U2R data points:', num_u2r)\n",
        "print('Probe data points:', num_probe)\n",
        "\n",
        "# Count the number of data points for each class in the testing dataset\n",
        "num_regular_test = data_test[data_test.iloc[:, -1] == 0].shape[0]\n",
        "num_dos_test = data_test[data_test.iloc[:, -1] == 1].shape[0]\n",
        "num_r2l_test = data_test[data_test.iloc[:, -1] == 2].shape[0]\n",
        "num_u2r_test = data_test[data_test.iloc[:, -1] == 3].shape[0]\n",
        "num_probe_test = data_test[data_test.iloc[:, -1] == 4].shape[0]\n",
        "\n",
        "print('\\nTesting Dataset:')\n",
        "print('Regular data points:', num_regular_test)\n",
        "print('DoS data points:', num_dos_test)\n",
        "print('R2L data points:', num_r2l_test)\n",
        "print('U2R data points:', num_u2r_test)\n",
        "print('Probe data points:', num_probe_test)\n",
        "\n"
      ]
    },
    {
      "cell_type": "code",
      "execution_count": null,
      "metadata": {},
      "outputs": [],
      "source": [
        "#labels = data_train.iloc[:, -1]\n",
        "#data_train.dtypes\n",
        "cols = data_train.columns\n",
        "cols\n"
      ]
    },
    {
      "cell_type": "markdown",
      "metadata": {
        "id": "20q6D6wb2jbI"
      },
      "source": [
        "# Step 2: Prepare numerical features\n",
        "Write the Python code:\n",
        "- Select a method and Convert 3 categorical features (“protocol_type”, “service”, and “flag”) to numerical from both training and testing data.\n",
        "  (Data should be numerical when feeding into machine learning models.)\n",
        "\n",
        "You may use pandas OR numpy:\n",
        "- [_NumPy_](https://numpy.org): used to perform mathematical operations\n",
        "- [_pandas_](https://pandas.pydata.org/): open source data analysis and manipulation tool"
      ]
    },
    {
      "cell_type": "code",
      "execution_count": 13,
      "metadata": {
        "id": "pRB2wBUNuULf"
      },
      "outputs": [
        {
          "name": "stdout",
          "output_type": "stream",
          "text": [
            "converted\n"
          ]
        }
      ],
      "source": [
        "categorical_features = [\"protocol_type\", \"service\", \"flag\"]\n",
        "train_df = data_train.copy()\n",
        "test_df = data_test.copy()\n",
        "# n (next): Execute the next line.\n",
        "# s (step): Step into a function call.\n",
        "# c (continue): Continue execution until the next breakpoint or the end of the program.\n",
        "# p (print): Print the value of a variable.\n",
        "# q (quit): Exit the debugger.\n",
        "for feature in categorical_features:\n",
        "    #%debug\n",
        "     # Get column position using iloc\n",
        "    # try:\n",
        "    #     #import pdb; pdb.set_trace()\n",
        "    #     feature_position = train_df.columns.get_loc(feature)\n",
        "\n",
        "    # except KeyError:\n",
        "    #     print(f\"Feature '{feature}' not found, skipping...\")\n",
        "    #     continue  # Skip to the next feature\n",
        "\n",
        "    # # Generate dummy variables for the training data using iloc\n",
        "    # train_dummies = pd.get_dummies(train_df.iloc[:, feature_position], prefix=feature)\n",
        "\n",
        "    train_dummies = pd.get_dummies(train_df[feature], prefix=feature)\n",
        "\n",
        "    #import pdb; pdb.set_trace()\n",
        "    # Get the columns to ensure alignment with test data\n",
        "    feature_columns = train_dummies.columns\n",
        "\n",
        "    # Generate dummy variables for the test data\n",
        "    #test_dummies = pd.get_dummies(test_df.iloc[:, feature_position], prefix=feature)\n",
        "    test_dummies = pd.get_dummies(test_df[feature], prefix=feature)\n",
        "    # Reindex test dummy columns to match training columns, filling missing with 0\n",
        "    test_dummies = test_dummies.reindex(columns=feature_columns, fill_value=0)\n",
        "\n",
        "    # Add dummies to dataframe using a different method\n",
        "    for col in train_dummies.columns:\n",
        "        train_df[col] = train_dummies[col]\n",
        "        test_df[col] = test_dummies[col]\n",
        "    \n",
        "    # # Use assign instead of concat\n",
        "    # train_df = train_df.assign(**train_dummies)\n",
        "    # test_df = test_df.assign(**test_dummies)\n",
        "    # # Drop original categorical column\n",
        "    train_df = train_df.drop(columns=[feature])\n",
        "    test_df = test_df.drop(columns=[feature])\n",
        "\n",
        "\n",
        "    # train_df = pd.concat([train_df, train_dummies], axis=1)\n",
        "    # test_df = pd.concat([test_df, test_dummies], axis=1)\n",
        "    # train_df['labels'] = train_df['labels'].astype(int)\n",
        "    # test_df['labels'] = test_df['labels'].astype(int)\n",
        "    # # Drop the original categorical column from both datasets\n",
        "    # #import pdb; pdb.set_trace()\n",
        "    # train_df = train_df.drop(columns=[feature])\n",
        "    # #import pdb; pdb.set_trace()\n",
        "    # try:\n",
        "    #     #test_df = test_df.drop(feature, axis=1)\n",
        "    #     #import pdb; pdb.set_trace()\n",
        "    #     test_df = test_df.drop(columns=[feature])\n",
        "    # except KeyError:\n",
        "    #     print(f\"Feature '{feature}' not found in test data, skipping...\")\n",
        "    #     continue  # Skip to the next feature\n",
        "    # #test_df = test_df.drop(feature, axis=1)\n",
        "\n",
        "    # Concatenate the dummy variables to the datasets\n",
        "print(\"converted\")\n"
      ]
    },
    {
      "cell_type": "code",
      "execution_count": 14,
      "metadata": {},
      "outputs": [],
      "source": [
        "\n",
        "import numpy as np #import numpy\n",
        "from scipy.stats import zscore\n",
        "# Get training and test data and labels for model training\n",
        "# Convert pandas DataFrames to NumPy arrays\n",
        "features_train = train_df.drop(columns=train_df.columns[-1]).values  # Exclude last column (target)\n",
        "labels_train = train_df['labels'].values  # Target variable in the last column\n",
        "features_test = test_df.drop(columns=test_df.columns[-1]).values  # Exclude last column (target)\n",
        "labels_test = test_df['labels'].values  # Target variable in the last column\n",
        "\n",
        "# Handle NaNs before applying zscore\n",
        "#import pdb; pdb.set_trace()\n",
        "features_train = np.nan_to_num(features_train).astype(np.float64)  # Replace NaNs, convert to float64\n",
        "features_test = np.nan_to_num(features_test).astype(np.float64)  # Replace NaNs, convert to float64\n",
        "\n",
        "# Normalize the training and test datasets using zscore\n",
        "features_train = zscore(features_train, axis=0, ddof=1)\n",
        "features_test = zscore(features_test, axis=0, ddof=1)\n",
        "\n",
        "\n"
      ]
    },
    {
      "cell_type": "code",
      "execution_count": 25,
      "metadata": {},
      "outputs": [
        {
          "data": {
            "text/plain": [
              "array([0, 1, 2, 3, 4])"
            ]
          },
          "execution_count": 25,
          "metadata": {},
          "output_type": "execute_result"
        }
      ],
      "source": [
        "#train_df = data_train.copy()\n",
        "np.unique(labels_train) \n",
        "np.unique(labels_test) \n"
      ]
    },
    {
      "cell_type": "markdown",
      "metadata": {
        "id": "AzkcEbKo26uL"
      },
      "source": [
        "# Step 3: Nomalize the data and create ML models\n",
        "Write the Python code to:\n",
        "- Normalize the two datasets (training and test data);  \n",
        "- Run a ML model. Various ML algorithms are available in the ML library (https://scikit-learn.org/stable/index.html).\n",
        "\n",
        "If you are running the exercise on your local platform, download and install machine learning (ML) library:  \n",
        "\thttps://scikit-learn.org/stable/index.html\n",
        "\n",
        "The Python libraries installed by [_pip_](https://pip.pypa.io/en/stable/) are:\n",
        "- [_SciPy_](https://scipy.org): dependency of the _scikit-learn_ library.\n",
        "- _SciPy_'s _zscore_: function used to perform normalization.\n",
        "- [_scikit-learn_](https://scikit-learn.org/stable): employed for processing data and calculating performance metrics."
      ]
    },
    {
      "cell_type": "code",
      "execution_count": 23,
      "metadata": {
        "colab": {
          "base_uri": "https://localhost:8080/"
        },
        "id": "ZtHzn7pj4ZWt",
        "outputId": "977b82e4-94a5-4899-93a4-73521eeac7cd"
      },
      "outputs": [
        {
          "name": "stdout",
          "output_type": "stream",
          "text": [
            "Training completed\n",
            "Training time: 2.497313976287842\n"
          ]
        }
      ],
      "source": [
        "# Import the Python libraries\n",
        "import time\n",
        "\n",
        "# from sklearn.model_selection import train_test_split\n",
        "# from sklearn.tree import DecisionTreeClassifier\n",
        "from sklearn.ensemble import RandomForestClassifier  # Assuming you're using RandomForest\n",
        "\n",
        "# Create and train your model\n",
        "time_start = time.time()  # training time - start\n",
        "#model = DecisionTreeClassifier()  # Initialize the DecisionTreeClassifier\n",
        "# Initialize RandomForestClassifier with parameters\n",
        "model = RandomForestClassifier(n_estimators=200, \n",
        "                               max_depth=10, \n",
        "                               random_state=42,\n",
        "                               class_weight='balanced'\n",
        "                               )\n",
        "\n",
        "# Generate the model using training data and labels\n",
        "model.fit(features_train, labels_train)\n",
        "\n",
        "time_end = time.time()  # training time - end\n",
        "training_time = time_end - time_start\n",
        "print('Training completed')\n",
        "print('Training time:', training_time)"
      ]
    },
    {
      "cell_type": "markdown",
      "metadata": {
        "id": "4_nPfWai26uM"
      },
      "source": [
        "# Step 4:\n",
        "Write the Python code to:\n",
        "- Test the developed model on the test dataset named \"features_test\"\n",
        "- Calculate Accuracy and F1-Score based on test labels and predicted labels.   "
      ]
    },
    {
      "cell_type": "code",
      "execution_count": null,
      "metadata": {
        "colab": {
          "base_uri": "https://localhost:8080/"
        },
        "id": "IUGyqCR5Gu9O",
        "outputId": "8ea8cf1e-0891-4687-ea63-ecd8e0e3c359"
      },
      "outputs": [
        {
          "name": "stdout",
          "output_type": "stream",
          "text": [
            "Accuracy: 0.8288679914833215\n",
            "F1-Score: 0.7902108321412566\n",
            "Taining time: 2.497313976287842\n"
          ]
        }
      ],
      "source": [
        "# Import the Python libraries\n",
        "from sklearn.metrics import accuracy_score\n",
        "from sklearn.metrics import f1_score\n",
        "\n",
        "# Testing, for sklearn libriary if applicable\n",
        "predicted_labels = model.predict(features_test)\n",
        "\n",
        "# To do...\n",
        "# Performance metrics\n",
        "# accuracy = accuracy_score(labels_test, predicted_labels)\n",
        "# fscore = f1_score(labels_test, predicted_labels)\n",
        "# Okay, let's discuss the meaning of accuracy_score and f1_score in the context of your intrusion detection task.\n",
        "\n",
        "# Accuracy Score:\n",
        "\n",
        "# Definition: Accuracy is the most intuitive performance metric and represents the proportion of correctly classified samples out of the total number of samples.\n",
        "# Formula: Accuracy = (Number of Correct Predictions) / (Total Number of Predictions)\n",
        "# Interpretation: In your case, accuracy would tell you the percentage of network connections that your model correctly classified as either normal or an intrusion (DoS, R2L, U2R, Probe). For example, an accuracy of 0.95 would mean that the model correctly classified 95% of the connections in the test dataset.\n",
        "# F1-Score:\n",
        "\n",
        "# Definition: The F1-score is a more comprehensive metric that considers both precision and recall. It is the harmonic mean of precision and recall, providing a balanced measure of a model's performance, especially when dealing with imbalanced datasets.\n",
        "# Precision: Precision measures the proportion of correctly predicted positive instances (intrusions) out of all instances predicted as positive. It answers the question: \"Of all the connections the model flagged as intrusions, how many were actually intrusions?\"\n",
        "# Recall: Recall measures the proportion of correctly predicted positive instances (intrusions) out of all actual positive instances. It answers the question: \"Of all the actual intrusions, how many did the model correctly identify?\"\n",
        "# Formula: F1-score = 2 * (Precision * Recall) / (Precision + Recall)\n",
        "# Interpretation: In your intrusion detection scenario, the F1-score provides a balanced measure of how well the model identifies intrusions while minimizing false positives and false negatives. A higher F1-score indicates a better balance between precision and recall, which is desirable in security applications where both identifying true intrusions and minimizing false alarms are important.\n",
        "# Why both are important:\n",
        "\n",
        "# Accuracy alone can be misleading, especially with imbalanced datasets. For example, if your dataset has 95% normal connections and only 5% intrusions, a model that simply predicts \"normal\" for every connection would achieve 95% accuracy, even though it fails to detect any intrusions.\n",
        "# The F1-score provides a more balanced evaluation by considering both precision and recall, making it more suitable for intrusion detection where identifying true intrusions is critical, even if it means some false alarms.\n",
        "# In your code:\n",
        "\n",
        "#print(np.unique(labels_test))\n",
        "accuracy = accuracy_score(labels_test, predicted_labels)\n",
        "fscore = f1_score(labels_test, predicted_labels, average=\"weighted\")\n",
        "# Use code with caution\n",
        "# These lines calculate the accuracy and F1-score of your model based on the true labels (labels_test) and the predicted labels (predicted_labels) for the test dataset. These metrics help you evaluate the performance of your intrusion detection model.\n",
        "\n",
        "# I hope this clarifies the meaning and importance of accuracy_score and f1_score in your case. Let me know if you have any further questions.\n",
        "# To do...\n",
        "# Show the results: accuracy and training time\n",
        "print('Accuracy:', accuracy)\n",
        "print('F1-Score:', fscore)\n",
        "\n",
        "# Go back to Step 3 to adjust the hyper-parameters and retrain the model, to achieve better results.\n"
      ]
    },
    {
      "cell_type": "code",
      "execution_count": 41,
      "metadata": {},
      "outputs": [
        {
          "data": {
            "text/plain": [
              "<Figure size 1200x800 with 0 Axes>"
            ]
          },
          "metadata": {},
          "output_type": "display_data"
        },
        {
          "data": {
            "image/png": "[encoded data removed]",
            "text/plain": [
              "<Figure size 640x480 with 1 Axes>"
            ]
          },
          "metadata": {},
          "output_type": "display_data"
        },
        {
          "name": "stdout",
          "output_type": "stream",
          "text": [
            "Number of features: 118\n",
            "Number of classes: 5\n",
            "Class labels: [0 1 2 3 4]\n",
            "Unique values in training labels:\n",
            "[0 1 2 3 4]\n",
            "Count of each value:\n",
            "0    13449\n",
            "1     9234\n",
            "2      209\n",
            "3       11\n",
            "4     2289\n",
            "Name: count, dtype: int64\n",
            "\n",
            "Unique values in test labels:\n",
            "[0 1 2 3 4]\n",
            "Count of each value:\n",
            "0    9711\n",
            "1    7460\n",
            "2    2885\n",
            "3      67\n",
            "4    2421\n",
            "Name: count, dtype: int64\n",
            "Original training labels:\n",
            "labels\n",
            "0    13449\n",
            "1     9234\n",
            "2      209\n",
            "3       11\n",
            "4     2289\n",
            "Name: count, dtype: int64\n",
            "Original test labels:\n",
            "labels\n",
            "0    9711\n",
            "1    7460\n",
            "2    2885\n",
            "3      67\n",
            "4    2421\n",
            "Name: count, dtype: int64\n"
          ]
        }
      ],
      "source": [
        "feature_importances = model.feature_importances_\n",
        "feature_names = train_df.columns[:-1]\n",
        "importance_df = pd.DataFrame({\n",
        "    'feature':feature_names,\n",
        "    'importance': feature_importances\n",
        "}).sort_values('importance', ascending=False)\n",
        "\n",
        "import matplotlib.pyplot as plt\n",
        "# Plot feature importance\n",
        "plt.figure(figsize=(12, 8))\n",
        "importance_df.head(20).plot(x='feature', y='importance', kind='barh')\n",
        "plt.title('Top 15 Feature Importances')\n",
        "plt.xlabel('Importance Score')\n",
        "plt.tight_layout()\n",
        "plt.show()\n",
        "# importance_df.head(10)\n",
        "# model.get_params()\n",
        "# Get number of features\n",
        "print(f\"Number of features: {model.n_features_in_}\")\n",
        "\n",
        "# Get feature names (if available)\n",
        "#print(f\"Feature names: {model.feature_names_in_}\")\n",
        "# Get number of classes\n",
        "print(f\"Number of classes: {model.n_classes_}\")\n",
        "\n",
        "# Get class labels\n",
        "print(f\"Class labels: {model.classes_}\")\n",
        "# Check what's actually in your labels\n",
        "print(\"Unique values in training labels:\")\n",
        "print(np.unique(labels_train))\n",
        "print(\"Count of each value:\")\n",
        "print(pd.Series(labels_train).value_counts().sort_index())\n",
        "\n",
        "print(\"\\nUnique values in test labels:\")\n",
        "print(np.unique(labels_test))\n",
        "print(\"Count of each value:\")\n",
        "print(pd.Series(labels_test).value_counts().sort_index())\n",
        "\n",
        "# Check the original labels in your CSV\n",
        "print(\"Original training labels:\")\n",
        "print(data_train['labels'].value_counts().sort_index())\n",
        "\n",
        "print(\"Original test labels:\")\n",
        "print(data_test['labels'].value_counts().sort_index())"
      ]
    },
    {
      "cell_type": "code",
      "execution_count": 43,
      "metadata": {},
      "outputs": [
        {
          "name": "stdout",
          "output_type": "stream",
          "text": [
            "Classification Report:\n",
            "              precision    recall  f1-score   support\n",
            "\n",
            "     Regular       0.73      0.99      0.84      9711\n",
            "         DoS       0.97      0.88      0.93      7460\n",
            "         R2L       1.00      0.09      0.16      2885\n",
            "         U2R       1.00      0.15      0.26        67\n",
            "       Probe       0.95      0.92      0.93      2421\n",
            "\n",
            "    accuracy                           0.83     22544\n",
            "   macro avg       0.93      0.61      0.62     22544\n",
            "weighted avg       0.87      0.83      0.79     22544\n",
            "\n",
            "Confusion Matrix:\n",
            "[[9608   17    0    0   86]\n",
            " [ 873 6586    0    0    1]\n",
            " [2600    9  258    0   18]\n",
            " [  49    0    0   10    8]\n",
            " [  31  166    0    0 2224]]\n"
          ]
        }
      ],
      "source": [
        "predictions = model.predict(features_test)\n",
        "# print(predictions)\n",
        "# type(predictions)\n",
        "# predictions.size\n",
        "\n",
        "from sklearn.metrics import classification_report, confusion_matrix\n",
        "\n",
        "# Classification report\n",
        "print(\"Classification Report:\")\n",
        "print(classification_report(labels_test, predictions, \n",
        "                          target_names=['Regular', 'DoS', 'R2L', 'U2R', 'Probe']))\n",
        "\n",
        "# Confusion matrix\n",
        "cm = confusion_matrix(labels_test, predictions)\n",
        "print(\"Confusion Matrix:\")\n",
        "print(cm)\n",
        "# probabilities = model.predict_proba(features_test)\n",
        "# probabilities\n",
        "#model.decision_function(features_test)\n",
        "# first_tree = model.estimators_[0]\n",
        "# first_tree.get_depth()\n",
        "# first_tree.get_n_leaves()\n",
        "\n",
        "# from sklearn.tree import plot_tree\n",
        "\n",
        "# # Plot the first tree (be careful - can be very large)\n",
        "# plt.figure(figsize=(20, 10))\n",
        "# plot_tree(first_tree, \n",
        "#           feature_names=feature_names,\n",
        "#           class_names=['Regular', 'DoS', 'R2L', 'U2R', 'Probe'],\n",
        "#           filled=True, \n",
        "#           rounded=True)\n",
        "# plt.show()"
      ]
    },
    {
      "cell_type": "code",
      "execution_count": 44,
      "metadata": {},
      "outputs": [
        {
          "name": "stdout",
          "output_type": "stream",
          "text": [
            "Regular accuracy: 0.9894\n",
            "DoS accuracy: 0.8828\n",
            "R2L accuracy: 0.0894\n",
            "U2R accuracy: 0.1493\n",
            "Probe accuracy: 0.9186\n"
          ]
        }
      ],
      "source": [
        "from sklearn.metrics import accuracy_score\n",
        "\n",
        "for i, class_name in enumerate(['Regular', 'DoS', 'R2L', 'U2R', 'Probe']):\n",
        "    class_mask = labels_test == i\n",
        "    if class_mask.sum() > 0:\n",
        "        class_accuracy = accuracy_score(labels_test[class_mask], predictions[class_mask])\n",
        "        print(f\"{class_name} accuracy: {class_accuracy:.4f}\")"
      ]
    },
    {
      "cell_type": "code",
      "execution_count": 49,
      "metadata": {},
      "outputs": [
        {
          "ename": "AttributeError",
          "evalue": "'RandomForestClassifier' object has no attribute 'oob_score_'",
          "output_type": "error",
          "traceback": [
            "\u001b[0;31m---------------------------------------------------------------------------\u001b[0m",
            "\u001b[0;31mAttributeError\u001b[0m                            Traceback (most recent call last)",
            "Cell \u001b[0;32mIn[49], line 8\u001b[0m\n\u001b[1;32m      1\u001b[0m \u001b[38;5;28;01mfrom\u001b[39;00m\u001b[38;5;250m \u001b[39m\u001b[38;5;21;01msklearn\u001b[39;00m\u001b[38;5;21;01m.\u001b[39;00m\u001b[38;5;21;01mmodel_selection\u001b[39;00m\u001b[38;5;250m \u001b[39m\u001b[38;5;28;01mimport\u001b[39;00m cross_val_score\n\u001b[1;32m      3\u001b[0m \u001b[38;5;66;03m# Perform cross-validation\u001b[39;00m\n\u001b[1;32m      4\u001b[0m \u001b[38;5;66;03m# cv_scores = cross_val_score(model, features_train, labels_train, cv=5)\u001b[39;00m\n\u001b[1;32m      5\u001b[0m \u001b[38;5;66;03m# print(f\"Cross-validation scores: {cv_scores}\")\u001b[39;00m\n\u001b[1;32m      6\u001b[0m \u001b[38;5;66;03m# print(f\"Mean CV score: {cv_scores.mean():.4f} (+/- {cv_scores.std() * 2:.4f})\")\u001b[39;00m\n\u001b[0;32m----> 8\u001b[0m \u001b[38;5;28mprint\u001b[39m(\u001b[38;5;124mf\u001b[39m\u001b[38;5;124m\"\u001b[39m\u001b[38;5;124mOOB Score: \u001b[39m\u001b[38;5;132;01m{\u001b[39;00mmodel\u001b[38;5;241m.\u001b[39moob_score_\u001b[38;5;132;01m:\u001b[39;00m\u001b[38;5;124m.4f\u001b[39m\u001b[38;5;132;01m}\u001b[39;00m\u001b[38;5;124m\"\u001b[39m)\n",
            "\u001b[0;31mAttributeError\u001b[0m: 'RandomForestClassifier' object has no attribute 'oob_score_'"
          ]
        }
      ],
      "source": [
        "from sklearn.model_selection import cross_val_score\n",
        "\n",
        "# Perform cross-validation\n",
        "# cv_scores = cross_val_score(model, features_train, labels_train, cv=5)\n",
        "# print(f\"Cross-validation scores: {cv_scores}\")\n",
        "# print(f\"Mean CV score: {cv_scores.mean():.4f} (+/- {cv_scores.std() * 2:.4f})\")\n",
        "\n",
        "print(f\"OOB Score: {model.oob_score_:.4f}\")"
      ]
    },
    {
      "cell_type": "markdown",
      "metadata": {
        "id": "twHlkCu22jbJ"
      },
      "source": [
        "# Step 5:\n",
        "Write the Python code to:\n",
        "- Select the five most important features with a feature selection algorithm or provide a reasonable explanation.\n",
        "- Re-run the algorithm with the new datasets.\n",
        "- Recalculate the Accuracy and F1-Score and compare these metrics to your previous results."
      ]
    },
    {
      "cell_type": "code",
      "execution_count": 50,
      "metadata": {
        "colab": {
          "base_uri": "https://localhost:8080/"
        },
        "id": "7CixOV6S5Fjh",
        "outputId": "a80b711c-25d9-46de-cc74-ff81dbe8c17a"
      },
      "outputs": [
        {
          "name": "stdout",
          "output_type": "stream",
          "text": [
            "Top 5 important features: Index(['logged_in', 'dst_bytes', 'dst_host_srv_count', 'src_bytes', 'labels'], dtype='object')\n",
            "\n",
            "Original Model:\n",
            "Accuracy: 0.8288679914833215\n",
            "F1-Score: 0.7902108321412566\n",
            "\n",
            "Selected Features Model:\n",
            "Accuracy: 0.9994677075940384\n",
            "F1-Score: 0.999442081640533\n"
          ]
        }
      ],
      "source": [
        "import pandas as pd\n",
        "import numpy as np\n",
        "from sklearn.tree import DecisionTreeClassifier\n",
        "from sklearn.ensemble import RandomForestClassifier\n",
        "from sklearn.metrics import accuracy_score, f1_score\n",
        "from scipy.stats import zscore\n",
        "\n",
        "# ... (Previous code for data loading, preprocessing, and model training) ...\n",
        "\n",
        "# 1. Feature Selection:\n",
        "# Get feature importances from the trained model\n",
        "feature_importances = model.feature_importances_\n",
        "\n",
        "# Get the indices of the top 5 features\n",
        "top_5_feature_indices = np.argsort(feature_importances)[-5:]\n",
        "\n",
        "# Get the names of the top 5 features (if you have feature names)\n",
        "# Assuming 'train_df' has the feature names as columns\n",
        "top_5_feature_names = train_df.columns[top_5_feature_indices]\n",
        "\n",
        "print(\"Top 5 important features:\", top_5_feature_names)\n",
        "\n",
        "# 2. Re-run with Selected Features:\n",
        "# Create new training and testing datasets with only the top 5 features\n",
        "features_train_selected = features_train[:, top_5_feature_indices]\n",
        "features_test_selected = features_test[:, top_5_feature_indices]\n",
        "\n",
        "# Re-train the model with selected features\n",
        "#model_selected = DecisionTreeClassifier()\n",
        "model_selected = RandomForestClassifier(n_estimators=200, max_depth=10, random_state=42)\n",
        "model_selected.fit(features_train_selected, labels_train)\n",
        "\n",
        "# 3. Re-calculate Metrics and Compare:\n",
        "# Make predictions on the test set with the selected features\n",
        "predicted_labels_selected = model_selected.predict(features_test_selected)\n",
        "\n",
        "# Calculate Accuracy and F1-Score for the selected features model\n",
        "accuracy_selected = accuracy_score(labels_test, predicted_labels_selected)\n",
        "f1_selected = f1_score(labels_test, predicted_labels_selected, average='weighted')\n",
        "\n",
        "# Print and compare the results\n",
        "print(\"\\nOriginal Model:\")\n",
        "print(\"Accuracy:\", accuracy)\n",
        "print(\"F1-Score:\", fscore)\n",
        "\n",
        "print(\"\\nSelected Features Model:\")\n",
        "print(\"Accuracy:\", accuracy_selected)\n",
        "print(\"F1-Score:\", f1_selected)\n",
        "\n",
        "# Compare the metrics and analyze the impact of feature selection"
      ]
    },
    {
      "cell_type": "code",
      "execution_count": null,
      "metadata": {},
      "outputs": [],
      "source": [
        "data_test_new['protocol_type'] = data_test_new['protocol_type'].astype('category')\n",
        "data_test_new['service'] = data_test_new['service'].astype('category')\n",
        "data_test_new['flag'] = data_test_new['flag'].astype('category')\n",
        "\n",
        "data_test_new['protocol_type_codes'] = data_test_new['protocol_type'].cat.codes\n",
        "data_test_new['service_codes'] = data_test_new['service'].cat.codes\n",
        "data_test_new['flag_codes'] = data_test_new['flag'].cat.codes"
      ]
    }
  ],
  "metadata": {
    "colab": {
      "provenance": []
    },
    "kernelspec": {
      "display_name": ".venv",
      "language": "python",
      "name": "python3"
    },
    "language_info": {
      "codemirror_mode": {
        "name": "ipython",
        "version": 3
      },
      "file_extension": ".py",
      "mimetype": "text/x-python",
      "name": "python",
      "nbconvert_exporter": "python",
      "pygments_lexer": "ipython3",
      "version": "3.9.6"
    }
  },
  "nbformat": 4,
  "nbformat_minor": 0
}
